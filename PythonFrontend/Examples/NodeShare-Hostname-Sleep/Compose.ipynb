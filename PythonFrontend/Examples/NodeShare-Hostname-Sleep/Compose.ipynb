{
 "cells": [
  {
   "cell_type": "code",
   "execution_count": 3,
   "id": "e295d155-b470-4c7a-b242-0e32fca4f692",
   "metadata": {
    "tags": []
   },
   "outputs": [
    {
     "name": "stderr",
     "output_type": "stream",
     "text": [
      "2024-04-09 02:54:26.009 - DEBUG - Node 0 cpus --> 1-8: host1:0, 9-64: host2:0\n",
      "2024-04-09 02:54:26.009 - DEBUG - Node 0 gpus --> []\n"
     ]
    },
    {
     "name": "stdout",
     "output_type": "stream",
     "text": [
      "Runs/ShareTest/esuchyta/EFFIS/run-0.iteration-0 Runs/ShareTest/esuchyta/EFFIS/run-0.iteration-0/host1\n"
     ]
    }
   ],
   "source": [
    "import effis.composition\n",
    "import logging\n",
    "import os\n",
    "\n",
    "effis.composition.log.CompositionLogger.SetLevel(logging.DEBUG)\n",
    "Example = os.path.join(effis.composition.ExamplesPath, \"NodeShare-Hostname-Sleep\", \"HostnameSleep.py\")\n",
    "\n",
    "where = \"perlmutter\"\n",
    "\n",
    "if where == \"crusher\":\n",
    "    w = effis.composition.Workflow(Name=\"ShareTest\", Charge=\"phy122\", Machine=\"Crusher\", TimeIndex=False)\n",
    "    w.SchedulerDirectives += \"--core-spec=0\"\n",
    "elif where == \"perlmutter\":\n",
    "    w = effis.composition.Workflow(Name=\"ShareTest\", Charge=\"m4564\",  TimeIndex=False, Machine=\"perlmutter_cpu\", Node=effis.composition.Node(cores=128, gpus=0))\n",
    "    w.SchedulerDirectives += \"--constraint=cpu\"\n",
    "    w.SchedulerDirectives += \"--time=00:05:00\"\n",
    "\n",
    "\n",
    "w.Input += \"testdir\"\n",
    "w.Input += effis.composition.Input(\"TestFile02.txt\", link=True)\n",
    "\n",
    "App1 = effis.composition.Application(Filepath=Example, Ranks=2, RanksPerNode=1, CoresPerRank=8, GPUsPerRank=0, Name=\"host1\")\n",
    "App1.CommandLineArguments += \"--SleepTime=30\"\n",
    "App1.ShareKey = \"Basic\"\n",
    "App1.Input += effis.composition.Input(\"TestFile01.txt\", rename=\"Other.txt\")\n",
    "App1.Input += effis.composition.Input(\"TestFile02.txt\", rename=\"Other2.txt\", outpath=\"NewSubdir\")\n",
    "\n",
    "App2 = effis.composition.Application(Filepath=Example, Ranks=2, RanksPerNode=1, CoresPerRank=56, GPUsPerRank=0, Name=\"host2\")\n",
    "App2.CommandLineArguments += \"--SleepTime=60\"\n",
    "App2.ShareKey = \"Basic\"\n",
    "App2.Input += effis.composition.Input(\"testdir\", rename=\"setupdir\", outpath=\"other\")\n",
    "\n",
    "w += App1 + App2\n",
    "\n",
    "w.Create()\n",
    "\n",
    "print(w.Directory, w.Applications[0].Directory)"
   ]
  },
  {
   "cell_type": "code",
   "execution_count": null,
   "id": "55fb7674-0057-4936-9551-3af01b4d76f0",
   "metadata": {},
   "outputs": [],
   "source": []
  }
 ],
 "metadata": {
  "kernelspec": {
   "display_name": "NERSC Python",
   "language": "python",
   "name": "python3"
  },
  "language_info": {
   "codemirror_mode": {
    "name": "ipython",
    "version": 3
   },
   "file_extension": ".py",
   "mimetype": "text/x-python",
   "name": "python",
   "nbconvert_exporter": "python",
   "pygments_lexer": "ipython3",
   "version": "3.11.7"
  }
 },
 "nbformat": 4,
 "nbformat_minor": 5
}
