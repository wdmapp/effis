{
 "cells": [
  {
   "cell_type": "code",
   "execution_count": 1,
   "id": "e295d155-b470-4c7a-b242-0e32fca4f692",
   "metadata": {
    "tags": []
   },
   "outputs": [
    {
     "name": "stderr",
     "output_type": "stream",
     "text": [
      "2024-04-17 02:50:56.017 - INFO - For Launcher, setting RanksPerNode = 1 since Ranks = 1\n",
      "2024-04-17 02:50:56.017 - DEBUG - Login node (no MPI): 1-1: Launcher:0\n"
     ]
    },
    {
     "name": "stdout",
     "output_type": "stream",
     "text": [
      "Runs/LoginApp-13/esuchyta/EFFIS/run-0.iteration-0 Runs/LoginApp-13/esuchyta/EFFIS/run-0.iteration-0/Launcher\n"
     ]
    }
   ],
   "source": [
    "import effis.composition\n",
    "import logging\n",
    "import os\n",
    "\n",
    "effis.composition.log.CompositionLogger.SetLevel(logging.DEBUG)\n",
    "LauncherExample = os.path.join(effis.composition.ExamplesPath, \"LoginLauncher\", \"TestApp.py\")\n",
    "SleepExample = os.path.join(effis.composition.ExamplesPath, \"NodeShare-Hostname-Sleep\", \"HostnameSleep.py\")\n",
    "\n",
    "where = \"perlmutter\"\n",
    "\n",
    "if where == \"crusher\":\n",
    "    w = effis.composition.Workflow(Name=\"LoginApp\", Charge=\"phy122\", Machine=\"Crusher\", TimeIndex=False)\n",
    "    w.SchedulerDirectives += \"--core-spec=0\"\n",
    "elif where == \"perlmutter\":\n",
    "    #w = effis.composition.Workflow(Name=\"LoginApp-05\", Charge=\"m4564\",  TimeIndex=False, Machine=\"perlmutter_cpu\", Node=effis.composition.Node(cores=128, gpus=0))\n",
    "    w = effis.composition.Workflow(Name=\"LoginApp-13\", Charge=\"m4564\",  TimeIndex=False, Machine=\"perlmutter_cpu\")\n",
    "    w.SchedulerDirectives += \"--constraint=cpu\"\n",
    "    w.SchedulerDirectives += \"--time=00:05:00\"\n",
    "    \n",
    "    '''\n",
    "    #w.Queue = \"shared_milan_ss11\"\n",
    "    w.SchedulerDirectives += \"--qos=shared\"\n",
    "    w.SchedulerDirectives += \"--ntasks=2\"\n",
    "    w.SchedulerDirectives += \"--cpus-per-task=2\"\n",
    "    '''\n",
    "\n",
    "w.ParentDirectory = \"Runs\"\n",
    "\n",
    "App1 = effis.composition.LoginNodeApplication(Filepath=LauncherExample, Name=\"Launcher\", UseNodes=1)\n",
    "App1.Input += effis.composition.Input(\"TestFile01.txt\")\n",
    "App1.CommandLineArguments += \"--nothing=Testing\"\n",
    "\n",
    "#App2 = effis.composition.Application(Filepath=SleepExample, Ranks=1, RanksPerNode=1, CoresPerRank=56, GPUsPerRank=0, Name=\"ComputeNode\")\n",
    "#App2.CommandLineArguments += \"--SleepTime=60\"\n",
    "#App2.Input += effis.composition.Input(\"TestFile01.txt\")\n",
    "\n",
    "w += App1\n",
    "#w += App1 + App2\n",
    "w.Create()\n",
    "\n",
    "print(w.Directory, w.Applications[0].Directory)"
   ]
  },
  {
   "cell_type": "code",
   "execution_count": null,
   "id": "55fb7674-0057-4936-9551-3af01b4d76f0",
   "metadata": {},
   "outputs": [],
   "source": []
  }
 ],
 "metadata": {
  "kernelspec": {
   "display_name": "NERSC Python",
   "language": "python",
   "name": "python3"
  },
  "language_info": {
   "codemirror_mode": {
    "name": "ipython",
    "version": 3
   },
   "file_extension": ".py",
   "mimetype": "text/x-python",
   "name": "python",
   "nbconvert_exporter": "python",
   "pygments_lexer": "ipython3",
   "version": "3.11.7"
  }
 },
 "nbformat": 4,
 "nbformat_minor": 5
}
