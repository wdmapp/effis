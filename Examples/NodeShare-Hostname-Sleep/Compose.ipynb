{
 "cells": [
  {
   "cell_type": "code",
   "execution_count": 1,
   "id": "e295d155-b470-4c7a-b242-0e32fca4f692",
   "metadata": {},
   "outputs": [],
   "source": [
    "import effis.composition\n",
    "import logging\n",
    "import os\n",
    "\n",
    "effis.composition.log.CompositionLogger.SetLevel(logging.DEBUG)\n",
    "Example = os.path.join(effis.composition.ExamplesPath, \"NodeShare-Hostname-Sleep\", \"HostnameSleep.py\")\n",
    "\n",
    "w = effis.composition.Workflow(Name=\"ShareTest\", Charge=\"phy122\", Machine=\"Crusher\", TimeIndex=False)\n",
    "w.ParentDirectory = \"Runs\"\n",
    "w.SchedulerDirectives += \"--core-spec=0\"\n",
    "w.Input += \"testdir\"\n",
    "w.Input += effis.composition.Input(\"TestFile02.txt\", link=True)\n",
    "\n",
    "App1 = effis.composition.Application(Filepath=Example, Ranks=2, RanksPerNode=1, CoresPerRank=8, GPUsPerRank=1, Name=\"host1\")\n",
    "App1.CommandLineArguments += \"--SleepTime=30\"\n",
    "App1.ShareKey = \"Basic\"\n",
    "App1.Input += effis.composition.Input(\"TestFile01.txt\", rename=\"Other.txt\")\n",
    "App1.Input += effis.composition.Input(\"TestFile02.txt\", rename=\"Other2.txt\", outpath=\"NewSubdir\")\n",
    "\n",
    "App2 = effis.composition.Application(Filepath=Example, Ranks=2, RanksPerNode=1, CoresPerRank=56, GPUsPerRank=7, Name=\"host2\")\n",
    "App2.CommandLineArguments += \"--SleepTime=60\"\n",
    "App2.ShareKey = \"Basic\"\n",
    "App2.Input += effis.composition.Input(\"testdir\", rename=\"setupdir\", outpath=\"other\")\n",
    "\n",
    "w += App1 + App2\n",
    "\n",
    "w.Create()\n",
    "\n",
    "print(w.Directory, w.Applications[0].Directory)"
   ]
  }
 ],
 "metadata": {
  "kernelspec": {
   "display_name": "jupyter",
   "language": "python",
   "name": "jupyter"
  },
  "language_info": {
   "codemirror_mode": {
    "name": "ipython",
    "version": 3
   },
   "file_extension": ".py",
   "mimetype": "text/x-python",
   "name": "python",
   "nbconvert_exporter": "python",
   "pygments_lexer": "ipython3",
   "version": "3.12.0"
  }
 },
 "nbformat": 4,
 "nbformat_minor": 5
}
